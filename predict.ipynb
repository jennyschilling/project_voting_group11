{
  "nbformat": 4,
  "nbformat_minor": 0,
  "metadata": {
    "colab": {
      "provenance": [],
      "include_colab_link": true
    },
    "kernelspec": {
      "name": "python3",
      "display_name": "Python 3"
    },
    "language_info": {
      "name": "python"
    }
  },
  "cells": [
    {
      "cell_type": "markdown",
      "metadata": {
        "id": "view-in-github",
        "colab_type": "text"
      },
      "source": [
        "<a href=\"https://colab.research.google.com/github/jennyschilling/project_voting_group11/blob/main/predict.ipynb\" target=\"_parent\"><img src=\"https://colab.research.google.com/assets/colab-badge.svg\" alt=\"Open In Colab\"/></a>"
      ]
    },
    {
      "cell_type": "markdown",
      "source": [
        "###This file attempts to create and find the best predictive model for our data, as well as create several descriptive and helpful visualizations."
      ],
      "metadata": {
        "id": "E2YEt8wmH1rE"
      }
    },
    {
      "cell_type": "code",
      "source": [
        "! rm -r project_voting_group11/"
      ],
      "metadata": {
        "id": "-s2noXzXR6Lv"
      },
      "execution_count": 152,
      "outputs": []
    },
    {
      "cell_type": "code",
      "execution_count": 153,
      "metadata": {
        "colab": {
          "base_uri": "https://localhost:8080/"
        },
        "id": "WBgT9fTJLt2Z",
        "outputId": "a7aa9e81-9bdf-441a-dd08-34eafa682e6f"
      },
      "outputs": [
        {
          "output_type": "stream",
          "name": "stdout",
          "text": [
            "Cloning into 'project_voting_group11'...\n",
            "remote: Enumerating objects: 115, done.\u001b[K\n",
            "remote: Counting objects:   3% (1/31)\u001b[K\rremote: Counting objects:   6% (2/31)\u001b[K\rremote: Counting objects:   9% (3/31)\u001b[K\rremote: Counting objects:  12% (4/31)\u001b[K\rremote: Counting objects:  16% (5/31)\u001b[K\rremote: Counting objects:  19% (6/31)\u001b[K\rremote: Counting objects:  22% (7/31)\u001b[K\rremote: Counting objects:  25% (8/31)\u001b[K\rremote: Counting objects:  29% (9/31)\u001b[K\rremote: Counting objects:  32% (10/31)\u001b[K\rremote: Counting objects:  35% (11/31)\u001b[K\rremote: Counting objects:  38% (12/31)\u001b[K\rremote: Counting objects:  41% (13/31)\u001b[K\rremote: Counting objects:  45% (14/31)\u001b[K\rremote: Counting objects:  48% (15/31)\u001b[K\rremote: Counting objects:  51% (16/31)\u001b[K\rremote: Counting objects:  54% (17/31)\u001b[K\rremote: Counting objects:  58% (18/31)\u001b[K\rremote: Counting objects:  61% (19/31)\u001b[K\rremote: Counting objects:  64% (20/31)\u001b[K\rremote: Counting objects:  67% (21/31)\u001b[K\rremote: Counting objects:  70% (22/31)\u001b[K\rremote: Counting objects:  74% (23/31)\u001b[K\rremote: Counting objects:  77% (24/31)\u001b[K\rremote: Counting objects:  80% (25/31)\u001b[K\rremote: Counting objects:  83% (26/31)\u001b[K\rremote: Counting objects:  87% (27/31)\u001b[K\rremote: Counting objects:  90% (28/31)\u001b[K\rremote: Counting objects:  93% (29/31)\u001b[K\rremote: Counting objects:  96% (30/31)\u001b[K\rremote: Counting objects: 100% (31/31)\u001b[K\rremote: Counting objects: 100% (31/31), done.\u001b[K\n",
            "remote: Compressing objects: 100% (23/23), done.\u001b[K\n",
            "remote: Total 115 (delta 16), reused 16 (delta 8), pack-reused 84\u001b[K\n",
            "Receiving objects: 100% (115/115), 35.21 MiB | 19.79 MiB/s, done.\n",
            "Resolving deltas: 100% (46/46), done.\n"
          ]
        }
      ],
      "source": [
        "!git clone https://github.com/jennyschilling/project_voting_group11"
      ]
    },
    {
      "cell_type": "code",
      "source": [
        "# imports\n",
        "import pandas as pd\n",
        "import numpy as np\n",
        "from sklearn.linear_model import LinearRegression # Import linear regression model\n",
        "from sklearn.tree import DecisionTreeRegressor # decision tree regression model\n",
        "import pylab as plt\n",
        "from sklearn.model_selection import train_test_split\n",
        "from sklearn.preprocessing import StandardScaler\n",
        "from sklearn.linear_model import LogisticRegression # logistic regression model\n",
        "from sklearn.metrics import accuracy_score, confusion_matrix, classification_report"
      ],
      "metadata": {
        "id": "w33d3SqLL3or"
      },
      "execution_count": 154,
      "outputs": []
    },
    {
      "cell_type": "code",
      "source": [
        "# get the data\n",
        "Df = pd.read_csv('/content/project_voting_group11/data/cleaned_VA_voting.csv')\n",
        "Df.head()"
      ],
      "metadata": {
        "colab": {
          "base_uri": "https://localhost:8080/",
          "height": 307
        },
        "id": "SGwQ7cqyL-w-",
        "outputId": "d4d6d9e9-f758-47e5-9f7c-bf8a5b039339"
      },
      "execution_count": 155,
      "outputs": [
        {
          "output_type": "execute_result",
          "data": {
            "text/plain": [
              "  county_name  candidatevotes  totalvotes   Total  Born in US  \\\n",
              "0    ACCOMACK            5495       16962   32560       29524   \n",
              "1   ALBEMARLE           33416       64657  108819       95653   \n",
              "2   ALLEGHANY            1250        8203   15030       14733   \n",
              "3      AMELIA            1719        7894   12970       12694   \n",
              "4     AMHERST            3871       17005   31782       30977   \n",
              "\n",
              "   Born in US Territory  Born Abroad  Naturalized  Not US Citizen  Total Pop  \\\n",
              "0                   119          192          782            1943      32227   \n",
              "1                   469         1470         5183            6044     101147   \n",
              "2                     0          111           91              95      14744   \n",
              "3                     0           97           73             106      12873   \n",
              "4                    71          151          361             222      31002   \n",
              "\n",
              "   ...  Total Midage Men  Total Female Pop  Total Young-adult Women  \\\n",
              "0  ...              5882             16517                     2858   \n",
              "1  ...             18680             56466                    13740   \n",
              "2  ...              2819              7525                     1266   \n",
              "3  ...              2670              6356                     1165   \n",
              "4  ...              6091             16423                     3106   \n",
              "\n",
              "   Total Midage Women  Total Pop Below Poverty  Total Pop At/Above Poverty  \\\n",
              "0                6474                    19119                       77562   \n",
              "1               20763                    23259                      280182   \n",
              "2                3052                     6945                       37287   \n",
              "3                2667                     4146                       34473   \n",
              "4                6596                    10179                       82827   \n",
              "\n",
              "   Total Disabled Pop  Total Children  Total Seniors   netvotes  \n",
              "0                4253            6764           7527   8.067149  \n",
              "1                9638           21823          19784 -10.676462  \n",
              "2                2829            2837           3439   8.886271  \n",
              "3                1924            2757           2445   8.692490  \n",
              "4                4888            6213           6516   9.281544  \n",
              "\n",
              "[5 rows x 22 columns]"
            ],
            "text/html": [
              "\n",
              "  <div id=\"df-c769a31f-4348-4465-ad4b-513aa6102e6b\" class=\"colab-df-container\">\n",
              "    <div>\n",
              "<style scoped>\n",
              "    .dataframe tbody tr th:only-of-type {\n",
              "        vertical-align: middle;\n",
              "    }\n",
              "\n",
              "    .dataframe tbody tr th {\n",
              "        vertical-align: top;\n",
              "    }\n",
              "\n",
              "    .dataframe thead th {\n",
              "        text-align: right;\n",
              "    }\n",
              "</style>\n",
              "<table border=\"1\" class=\"dataframe\">\n",
              "  <thead>\n",
              "    <tr style=\"text-align: right;\">\n",
              "      <th></th>\n",
              "      <th>county_name</th>\n",
              "      <th>candidatevotes</th>\n",
              "      <th>totalvotes</th>\n",
              "      <th>Total</th>\n",
              "      <th>Born in US</th>\n",
              "      <th>Born in US Territory</th>\n",
              "      <th>Born Abroad</th>\n",
              "      <th>Naturalized</th>\n",
              "      <th>Not US Citizen</th>\n",
              "      <th>Total Pop</th>\n",
              "      <th>...</th>\n",
              "      <th>Total Midage Men</th>\n",
              "      <th>Total Female Pop</th>\n",
              "      <th>Total Young-adult Women</th>\n",
              "      <th>Total Midage Women</th>\n",
              "      <th>Total Pop Below Poverty</th>\n",
              "      <th>Total Pop At/Above Poverty</th>\n",
              "      <th>Total Disabled Pop</th>\n",
              "      <th>Total Children</th>\n",
              "      <th>Total Seniors</th>\n",
              "      <th>netvotes</th>\n",
              "    </tr>\n",
              "  </thead>\n",
              "  <tbody>\n",
              "    <tr>\n",
              "      <th>0</th>\n",
              "      <td>ACCOMACK</td>\n",
              "      <td>5495</td>\n",
              "      <td>16962</td>\n",
              "      <td>32560</td>\n",
              "      <td>29524</td>\n",
              "      <td>119</td>\n",
              "      <td>192</td>\n",
              "      <td>782</td>\n",
              "      <td>1943</td>\n",
              "      <td>32227</td>\n",
              "      <td>...</td>\n",
              "      <td>5882</td>\n",
              "      <td>16517</td>\n",
              "      <td>2858</td>\n",
              "      <td>6474</td>\n",
              "      <td>19119</td>\n",
              "      <td>77562</td>\n",
              "      <td>4253</td>\n",
              "      <td>6764</td>\n",
              "      <td>7527</td>\n",
              "      <td>8.067149</td>\n",
              "    </tr>\n",
              "    <tr>\n",
              "      <th>1</th>\n",
              "      <td>ALBEMARLE</td>\n",
              "      <td>33416</td>\n",
              "      <td>64657</td>\n",
              "      <td>108819</td>\n",
              "      <td>95653</td>\n",
              "      <td>469</td>\n",
              "      <td>1470</td>\n",
              "      <td>5183</td>\n",
              "      <td>6044</td>\n",
              "      <td>101147</td>\n",
              "      <td>...</td>\n",
              "      <td>18680</td>\n",
              "      <td>56466</td>\n",
              "      <td>13740</td>\n",
              "      <td>20763</td>\n",
              "      <td>23259</td>\n",
              "      <td>280182</td>\n",
              "      <td>9638</td>\n",
              "      <td>21823</td>\n",
              "      <td>19784</td>\n",
              "      <td>-10.676462</td>\n",
              "    </tr>\n",
              "    <tr>\n",
              "      <th>2</th>\n",
              "      <td>ALLEGHANY</td>\n",
              "      <td>1250</td>\n",
              "      <td>8203</td>\n",
              "      <td>15030</td>\n",
              "      <td>14733</td>\n",
              "      <td>0</td>\n",
              "      <td>111</td>\n",
              "      <td>91</td>\n",
              "      <td>95</td>\n",
              "      <td>14744</td>\n",
              "      <td>...</td>\n",
              "      <td>2819</td>\n",
              "      <td>7525</td>\n",
              "      <td>1266</td>\n",
              "      <td>3052</td>\n",
              "      <td>6945</td>\n",
              "      <td>37287</td>\n",
              "      <td>2829</td>\n",
              "      <td>2837</td>\n",
              "      <td>3439</td>\n",
              "      <td>8.886271</td>\n",
              "    </tr>\n",
              "    <tr>\n",
              "      <th>3</th>\n",
              "      <td>AMELIA</td>\n",
              "      <td>1719</td>\n",
              "      <td>7894</td>\n",
              "      <td>12970</td>\n",
              "      <td>12694</td>\n",
              "      <td>0</td>\n",
              "      <td>97</td>\n",
              "      <td>73</td>\n",
              "      <td>106</td>\n",
              "      <td>12873</td>\n",
              "      <td>...</td>\n",
              "      <td>2670</td>\n",
              "      <td>6356</td>\n",
              "      <td>1165</td>\n",
              "      <td>2667</td>\n",
              "      <td>4146</td>\n",
              "      <td>34473</td>\n",
              "      <td>1924</td>\n",
              "      <td>2757</td>\n",
              "      <td>2445</td>\n",
              "      <td>8.692490</td>\n",
              "    </tr>\n",
              "    <tr>\n",
              "      <th>4</th>\n",
              "      <td>AMHERST</td>\n",
              "      <td>3871</td>\n",
              "      <td>17005</td>\n",
              "      <td>31782</td>\n",
              "      <td>30977</td>\n",
              "      <td>71</td>\n",
              "      <td>151</td>\n",
              "      <td>361</td>\n",
              "      <td>222</td>\n",
              "      <td>31002</td>\n",
              "      <td>...</td>\n",
              "      <td>6091</td>\n",
              "      <td>16423</td>\n",
              "      <td>3106</td>\n",
              "      <td>6596</td>\n",
              "      <td>10179</td>\n",
              "      <td>82827</td>\n",
              "      <td>4888</td>\n",
              "      <td>6213</td>\n",
              "      <td>6516</td>\n",
              "      <td>9.281544</td>\n",
              "    </tr>\n",
              "  </tbody>\n",
              "</table>\n",
              "<p>5 rows × 22 columns</p>\n",
              "</div>\n",
              "    <div class=\"colab-df-buttons\">\n",
              "\n",
              "  <div class=\"colab-df-container\">\n",
              "    <button class=\"colab-df-convert\" onclick=\"convertToInteractive('df-c769a31f-4348-4465-ad4b-513aa6102e6b')\"\n",
              "            title=\"Convert this dataframe to an interactive table.\"\n",
              "            style=\"display:none;\">\n",
              "\n",
              "  <svg xmlns=\"http://www.w3.org/2000/svg\" height=\"24px\" viewBox=\"0 -960 960 960\">\n",
              "    <path d=\"M120-120v-720h720v720H120Zm60-500h600v-160H180v160Zm220 220h160v-160H400v160Zm0 220h160v-160H400v160ZM180-400h160v-160H180v160Zm440 0h160v-160H620v160ZM180-180h160v-160H180v160Zm440 0h160v-160H620v160Z\"/>\n",
              "  </svg>\n",
              "    </button>\n",
              "\n",
              "  <style>\n",
              "    .colab-df-container {\n",
              "      display:flex;\n",
              "      gap: 12px;\n",
              "    }\n",
              "\n",
              "    .colab-df-convert {\n",
              "      background-color: #E8F0FE;\n",
              "      border: none;\n",
              "      border-radius: 50%;\n",
              "      cursor: pointer;\n",
              "      display: none;\n",
              "      fill: #1967D2;\n",
              "      height: 32px;\n",
              "      padding: 0 0 0 0;\n",
              "      width: 32px;\n",
              "    }\n",
              "\n",
              "    .colab-df-convert:hover {\n",
              "      background-color: #E2EBFA;\n",
              "      box-shadow: 0px 1px 2px rgba(60, 64, 67, 0.3), 0px 1px 3px 1px rgba(60, 64, 67, 0.15);\n",
              "      fill: #174EA6;\n",
              "    }\n",
              "\n",
              "    .colab-df-buttons div {\n",
              "      margin-bottom: 4px;\n",
              "    }\n",
              "\n",
              "    [theme=dark] .colab-df-convert {\n",
              "      background-color: #3B4455;\n",
              "      fill: #D2E3FC;\n",
              "    }\n",
              "\n",
              "    [theme=dark] .colab-df-convert:hover {\n",
              "      background-color: #434B5C;\n",
              "      box-shadow: 0px 1px 3px 1px rgba(0, 0, 0, 0.15);\n",
              "      filter: drop-shadow(0px 1px 2px rgba(0, 0, 0, 0.3));\n",
              "      fill: #FFFFFF;\n",
              "    }\n",
              "  </style>\n",
              "\n",
              "    <script>\n",
              "      const buttonEl =\n",
              "        document.querySelector('#df-c769a31f-4348-4465-ad4b-513aa6102e6b button.colab-df-convert');\n",
              "      buttonEl.style.display =\n",
              "        google.colab.kernel.accessAllowed ? 'block' : 'none';\n",
              "\n",
              "      async function convertToInteractive(key) {\n",
              "        const element = document.querySelector('#df-c769a31f-4348-4465-ad4b-513aa6102e6b');\n",
              "        const dataTable =\n",
              "          await google.colab.kernel.invokeFunction('convertToInteractive',\n",
              "                                                    [key], {});\n",
              "        if (!dataTable) return;\n",
              "\n",
              "        const docLinkHtml = 'Like what you see? Visit the ' +\n",
              "          '<a target=\"_blank\" href=https://colab.research.google.com/notebooks/data_table.ipynb>data table notebook</a>'\n",
              "          + ' to learn more about interactive tables.';\n",
              "        element.innerHTML = '';\n",
              "        dataTable['output_type'] = 'display_data';\n",
              "        await google.colab.output.renderOutput(dataTable, element);\n",
              "        const docLink = document.createElement('div');\n",
              "        docLink.innerHTML = docLinkHtml;\n",
              "        element.appendChild(docLink);\n",
              "      }\n",
              "    </script>\n",
              "  </div>\n",
              "\n",
              "\n",
              "<div id=\"df-42abd0dc-5ad4-4b4f-8576-8af72b1c185f\">\n",
              "  <button class=\"colab-df-quickchart\" onclick=\"quickchart('df-42abd0dc-5ad4-4b4f-8576-8af72b1c185f')\"\n",
              "            title=\"Suggest charts\"\n",
              "            style=\"display:none;\">\n",
              "\n",
              "<svg xmlns=\"http://www.w3.org/2000/svg\" height=\"24px\"viewBox=\"0 0 24 24\"\n",
              "     width=\"24px\">\n",
              "    <g>\n",
              "        <path d=\"M19 3H5c-1.1 0-2 .9-2 2v14c0 1.1.9 2 2 2h14c1.1 0 2-.9 2-2V5c0-1.1-.9-2-2-2zM9 17H7v-7h2v7zm4 0h-2V7h2v10zm4 0h-2v-4h2v4z\"/>\n",
              "    </g>\n",
              "</svg>\n",
              "  </button>\n",
              "\n",
              "<style>\n",
              "  .colab-df-quickchart {\n",
              "      --bg-color: #E8F0FE;\n",
              "      --fill-color: #1967D2;\n",
              "      --hover-bg-color: #E2EBFA;\n",
              "      --hover-fill-color: #174EA6;\n",
              "      --disabled-fill-color: #AAA;\n",
              "      --disabled-bg-color: #DDD;\n",
              "  }\n",
              "\n",
              "  [theme=dark] .colab-df-quickchart {\n",
              "      --bg-color: #3B4455;\n",
              "      --fill-color: #D2E3FC;\n",
              "      --hover-bg-color: #434B5C;\n",
              "      --hover-fill-color: #FFFFFF;\n",
              "      --disabled-bg-color: #3B4455;\n",
              "      --disabled-fill-color: #666;\n",
              "  }\n",
              "\n",
              "  .colab-df-quickchart {\n",
              "    background-color: var(--bg-color);\n",
              "    border: none;\n",
              "    border-radius: 50%;\n",
              "    cursor: pointer;\n",
              "    display: none;\n",
              "    fill: var(--fill-color);\n",
              "    height: 32px;\n",
              "    padding: 0;\n",
              "    width: 32px;\n",
              "  }\n",
              "\n",
              "  .colab-df-quickchart:hover {\n",
              "    background-color: var(--hover-bg-color);\n",
              "    box-shadow: 0 1px 2px rgba(60, 64, 67, 0.3), 0 1px 3px 1px rgba(60, 64, 67, 0.15);\n",
              "    fill: var(--button-hover-fill-color);\n",
              "  }\n",
              "\n",
              "  .colab-df-quickchart-complete:disabled,\n",
              "  .colab-df-quickchart-complete:disabled:hover {\n",
              "    background-color: var(--disabled-bg-color);\n",
              "    fill: var(--disabled-fill-color);\n",
              "    box-shadow: none;\n",
              "  }\n",
              "\n",
              "  .colab-df-spinner {\n",
              "    border: 2px solid var(--fill-color);\n",
              "    border-color: transparent;\n",
              "    border-bottom-color: var(--fill-color);\n",
              "    animation:\n",
              "      spin 1s steps(1) infinite;\n",
              "  }\n",
              "\n",
              "  @keyframes spin {\n",
              "    0% {\n",
              "      border-color: transparent;\n",
              "      border-bottom-color: var(--fill-color);\n",
              "      border-left-color: var(--fill-color);\n",
              "    }\n",
              "    20% {\n",
              "      border-color: transparent;\n",
              "      border-left-color: var(--fill-color);\n",
              "      border-top-color: var(--fill-color);\n",
              "    }\n",
              "    30% {\n",
              "      border-color: transparent;\n",
              "      border-left-color: var(--fill-color);\n",
              "      border-top-color: var(--fill-color);\n",
              "      border-right-color: var(--fill-color);\n",
              "    }\n",
              "    40% {\n",
              "      border-color: transparent;\n",
              "      border-right-color: var(--fill-color);\n",
              "      border-top-color: var(--fill-color);\n",
              "    }\n",
              "    60% {\n",
              "      border-color: transparent;\n",
              "      border-right-color: var(--fill-color);\n",
              "    }\n",
              "    80% {\n",
              "      border-color: transparent;\n",
              "      border-right-color: var(--fill-color);\n",
              "      border-bottom-color: var(--fill-color);\n",
              "    }\n",
              "    90% {\n",
              "      border-color: transparent;\n",
              "      border-bottom-color: var(--fill-color);\n",
              "    }\n",
              "  }\n",
              "</style>\n",
              "\n",
              "  <script>\n",
              "    async function quickchart(key) {\n",
              "      const quickchartButtonEl =\n",
              "        document.querySelector('#' + key + ' button');\n",
              "      quickchartButtonEl.disabled = true;  // To prevent multiple clicks.\n",
              "      quickchartButtonEl.classList.add('colab-df-spinner');\n",
              "      try {\n",
              "        const charts = await google.colab.kernel.invokeFunction(\n",
              "            'suggestCharts', [key], {});\n",
              "      } catch (error) {\n",
              "        console.error('Error during call to suggestCharts:', error);\n",
              "      }\n",
              "      quickchartButtonEl.classList.remove('colab-df-spinner');\n",
              "      quickchartButtonEl.classList.add('colab-df-quickchart-complete');\n",
              "    }\n",
              "    (() => {\n",
              "      let quickchartButtonEl =\n",
              "        document.querySelector('#df-42abd0dc-5ad4-4b4f-8576-8af72b1c185f button');\n",
              "      quickchartButtonEl.style.display =\n",
              "        google.colab.kernel.accessAllowed ? 'block' : 'none';\n",
              "    })();\n",
              "  </script>\n",
              "</div>\n",
              "    </div>\n",
              "  </div>\n"
            ],
            "application/vnd.google.colaboratory.intrinsic+json": {
              "type": "dataframe",
              "variable_name": "Df"
            }
          },
          "metadata": {},
          "execution_count": 155
        }
      ]
    },
    {
      "cell_type": "markdown",
      "source": [
        "###Trying Linear Regression"
      ],
      "metadata": {
        "id": "eZSgTM8mwWAZ"
      }
    },
    {
      "cell_type": "code",
      "source": [
        "# predictive model at county level\n",
        "X = Df.drop(columns=['county_name','netvotes'])\n",
        "y = Df['netvotes']\n",
        "\n",
        "# scaling and train/test split\n",
        "scaler = StandardScaler()\n",
        "features_scaled = scaler.fit_transform(X)\n",
        "X_train, X_test, y_train, y_test = train_test_split(features_scaled, y, test_size=0.2, shuffle=True, random_state=42)\n",
        "\n",
        "# linear regression\n",
        "stock_reg = LinearRegression().fit(X_train, y_train)\n",
        "ypred_train = stock_reg.predict(X_train)\n",
        "r2_train = abs(stock_reg.score(X_train, y_train))\n",
        "print(\"R^2 train = \", r2_train)\n",
        "ypred_test = stock_reg.predict(X_test)\n",
        "r2_test = abs(stock_reg.score(X_test, y_test))\n",
        "print(\"R^2 test = \", r2_test)\n",
        "\n",
        "# parity plot\n",
        "fig, ax = plt.subplots()\n",
        "ax.scatter(y_train, ypred_train,alpha=0.15)\n",
        "ax.scatter(y_test, ypred_test,alpha=0.15)\n",
        "ax.plot(y,y, '-k');\n",
        "ax.set_xlabel('Actual data')\n",
        "ax.set_ylabel('Predicted data')"
      ],
      "metadata": {
        "id": "hDO0uBj_niqc",
        "colab": {
          "base_uri": "https://localhost:8080/",
          "height": 501
        },
        "outputId": "6a90487d-05f9-4404-f998-eb2d8c37d05d"
      },
      "execution_count": 156,
      "outputs": [
        {
          "output_type": "stream",
          "name": "stdout",
          "text": [
            "R^2 train =  0.6647417656261243\n",
            "R^2 test =  0.5802873084352382\n"
          ]
        },
        {
          "output_type": "execute_result",
          "data": {
            "text/plain": [
              "Text(0, 0.5, 'Predicted data')"
            ]
          },
          "metadata": {},
          "execution_count": 156
        },
        {
          "output_type": "display_data",
          "data": {
            "text/plain": [
              "<Figure size 640x480 with 1 Axes>"
            ],
            "image/png": "[encoded data removed]"
          },
          "metadata": {}
        }
      ]
    },
    {
      "cell_type": "code",
      "source": [
        "# finding state winner\n",
        "win_actual = np.sinh(Df['netvotes']).sum()\n",
        "print(win_actual) # negative value shows democrats won VA by 451138 votes\n",
        "totalpopt = Df['Total'].sum()\n",
        "margin_actual = 100*win_actual/totalpopt\n",
        "print(margin_actual) # reveals that D won by margin of 5%\n",
        "\n",
        "win_pred = np.sinh(ypred_train).sum()\n",
        "print(win_pred) # predicted correct democrat win but votes still off\n",
        "totalpopt_test = np.sum(scaler.inverse_transform(X_test)[:, 2])\n",
        "margin_test = 100*win_pred/totalpopt_test\n",
        "print(margin_test) # reveals that D won by margin of 7000% - impossible"
      ],
      "metadata": {
        "id": "2HjxpQFx4QPT",
        "colab": {
          "base_uri": "https://localhost:8080/"
        },
        "outputId": "9c7ef5ff-37ee-49d3-9c2b-e36b4b152f66"
      },
      "execution_count": 157,
      "outputs": [
        {
          "output_type": "stream",
          "name": "stdout",
          "text": [
            "-451137.9999999999\n",
            "-5.301669056584526\n",
            "-74978610.51832956\n",
            "-7169.415776289578\n"
          ]
        }
      ]
    },
    {
      "cell_type": "markdown",
      "source": [
        "###Trying Logistic Regression"
      ],
      "metadata": {
        "id": "dGLIrj3iSSDp"
      }
    },
    {
      "cell_type": "code",
      "source": [
        "# 1 for Republican win, 0 for Democratic win\n",
        "Df['target'] = (Df['netvotes'] > 0).astype(int)\n",
        "\n",
        "#feature scaling\n",
        "features = Df.drop(['county_name', 'totalvotes', 'netvotes', 'target'], axis=1)\n",
        "target = Df['target']\n",
        "\n",
        "# standardizing\n",
        "scaler = StandardScaler()\n",
        "features_scaled = scaler.fit_transform(features)\n",
        "\n",
        "X_train, X_test, y_train, y_test = train_test_split(features_scaled, target, test_size=0.2, random_state=42)\n",
        "X_train.shape, X_test.shape, y_train.shape, y_test.shape"
      ],
      "metadata": {
        "colab": {
          "base_uri": "https://localhost:8080/"
        },
        "id": "ymJSBZNIVo4f",
        "outputId": "ed965a5e-c7ff-48b6-d894-0a74a5b74ac3"
      },
      "execution_count": 158,
      "outputs": [
        {
          "output_type": "execute_result",
          "data": {
            "text/plain": [
              "((106, 19), (27, 19), (106,), (27,))"
            ]
          },
          "metadata": {},
          "execution_count": 158
        }
      ]
    },
    {
      "cell_type": "code",
      "source": [
        "#training logistic regression model\n",
        "model = LogisticRegression(random_state=42)\n",
        "model.fit(X_train, y_train)\n",
        "\n",
        "y_pred = model.predict(X_test)\n",
        "\n",
        "#evaluate\n",
        "accuracy = accuracy_score(y_test, y_pred)\n",
        "conf_matrix = confusion_matrix(y_test, y_pred)\n",
        "report = classification_report(y_test, y_pred)\n",
        "print(accuracy)\n",
        "print(conf_matrix)\n",
        "print(report)"
      ],
      "metadata": {
        "colab": {
          "base_uri": "https://localhost:8080/"
        },
        "id": "B6qf4yOhWLjl",
        "outputId": "4f427cc2-407c-42ef-f28e-23acb5a295b5"
      },
      "execution_count": 159,
      "outputs": [
        {
          "output_type": "stream",
          "name": "stdout",
          "text": [
            "0.8518518518518519\n",
            "[[ 2  4]\n",
            " [ 0 21]]\n",
            "              precision    recall  f1-score   support\n",
            "\n",
            "           0       1.00      0.33      0.50         6\n",
            "           1       0.84      1.00      0.91        21\n",
            "\n",
            "    accuracy                           0.85        27\n",
            "   macro avg       0.92      0.67      0.71        27\n",
            "weighted avg       0.88      0.85      0.82        27\n",
            "\n"
          ]
        }
      ]
    },
    {
      "cell_type": "markdown",
      "source": [
        "85% accuracy, which isn't great, performs well in predicting Republican wins, but so the model is biased toward predicting Republican wins.\n",
        "^might be due to an imbalance in the training data or certain features disproportionately influencing the predictions toward Republican outcomes"
      ],
      "metadata": {
        "id": "2lAuMgaFWtss"
      }
    },
    {
      "cell_type": "markdown",
      "source": [
        "####Trying Decision Tree"
      ],
      "metadata": {
        "id": "qdeeCJCezqwW"
      }
    },
    {
      "cell_type": "code",
      "source": [
        "# training decision tree model with same train/test split as logistic regression\n",
        "model = DecisionTreeRegressor(random_state=42)\n",
        "model.fit(X_train, y_train)\n",
        "\n",
        "y_pred = model.predict(X_test)\n",
        "\n",
        "#evaluate\n",
        "accuracy = accuracy_score(y_test, y_pred)\n",
        "conf_matrix = confusion_matrix(y_test, y_pred)\n",
        "report = classification_report(y_test, y_pred)\n",
        "print(accuracy)\n",
        "print(conf_matrix)\n",
        "print(report)"
      ],
      "metadata": {
        "id": "3v_ggFbPXENH",
        "colab": {
          "base_uri": "https://localhost:8080/"
        },
        "outputId": "30085ad1-f219-4d5e-f759-1a0fa8f8a473"
      },
      "execution_count": 160,
      "outputs": [
        {
          "output_type": "stream",
          "name": "stdout",
          "text": [
            "0.7777777777777778\n",
            "[[ 4  2]\n",
            " [ 4 17]]\n",
            "              precision    recall  f1-score   support\n",
            "\n",
            "           0       0.50      0.67      0.57         6\n",
            "           1       0.89      0.81      0.85        21\n",
            "\n",
            "    accuracy                           0.78        27\n",
            "   macro avg       0.70      0.74      0.71        27\n",
            "weighted avg       0.81      0.78      0.79        27\n",
            "\n"
          ]
        }
      ]
    },
    {
      "cell_type": "code",
      "source": [],
      "metadata": {
        "id": "3Rxhj8-dxfzr"
      },
      "execution_count": 160,
      "outputs": []
    }
  ]
}