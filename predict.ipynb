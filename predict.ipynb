{
  "nbformat": 4,
  "nbformat_minor": 0,
  "metadata": {
    "colab": {
      "provenance": [],
      "authorship_tag": "ABX9TyM7LMvC/YPCsPy+tQiJ5LuT",
      "include_colab_link": true
    },
    "kernelspec": {
      "name": "python3",
      "display_name": "Python 3"
    },
    "language_info": {
      "name": "python"
    }
  },
  "cells": [
    {
      "cell_type": "markdown",
      "metadata": {
        "id": "view-in-github",
        "colab_type": "text"
      },
      "source": [
        "<a href=\"https://colab.research.google.com/github/jennyschilling/project_voting_group11/blob/main/predict.ipynb\" target=\"_parent\"><img src=\"https://colab.research.google.com/assets/colab-badge.svg\" alt=\"Open In Colab\"/></a>"
      ]
    },
    {
      "cell_type": "markdown",
      "source": [
        "###This file attempts to create and find the best predictive model for our data, as well as create several descriptive and helpful visualizations."
      ],
      "metadata": {
        "id": "E2YEt8wmH1rE"
      }
    },
    {
      "cell_type": "code",
      "source": [
        "! rm -r project_voting_group11/"
      ],
      "metadata": {
        "id": "-s2noXzXR6Lv",
        "outputId": "af0d25be-f2a8-406e-b7d6-931b5619ed45",
        "colab": {
          "base_uri": "https://localhost:8080/"
        }
      },
      "execution_count": 1,
      "outputs": [
        {
          "output_type": "stream",
          "name": "stdout",
          "text": [
            "rm: cannot remove 'project_voting_group11/': No such file or directory\n"
          ]
        }
      ]
    },
    {
      "cell_type": "code",
      "execution_count": 2,
      "metadata": {
        "colab": {
          "base_uri": "https://localhost:8080/"
        },
        "id": "WBgT9fTJLt2Z",
        "outputId": "75387897-0462-49ec-9a10-9474d964fc99"
      },
      "outputs": [
        {
          "output_type": "stream",
          "name": "stdout",
          "text": [
            "Cloning into 'project_voting_group11'...\n",
            "remote: Enumerating objects: 106, done.\u001b[K\n",
            "remote: Counting objects: 100% (22/22), done.\u001b[K\n",
            "remote: Compressing objects: 100% (16/16), done.\u001b[K\n",
            "remote: Total 106 (delta 12), reused 6 (delta 6), pack-reused 84\u001b[K\n",
            "Receiving objects: 100% (106/106), 35.09 MiB | 17.17 MiB/s, done.\n",
            "Resolving deltas: 100% (42/42), done.\n"
          ]
        }
      ],
      "source": [
        "!git clone https://github.com/jennyschilling/project_voting_group11"
      ]
    },
    {
      "cell_type": "code",
      "source": [
        "# imports\n",
        "import pandas as pd\n",
        "import numpy as np\n",
        "from sklearn.linear_model import LinearRegression # Import linear regression model\n",
        "import pylab as plt\n",
        "from sklearn.model_selection import train_test_split\n",
        "from sklearn.preprocessing import StandardScaler\n",
        "from sklearn.linear_model import LogisticRegression #Linear regression model\n",
        "from sklearn.metrics import accuracy_score, confusion_matrix, classification_report"
      ],
      "metadata": {
        "id": "w33d3SqLL3or"
      },
      "execution_count": 8,
      "outputs": []
    },
    {
      "cell_type": "code",
      "source": [
        "# get the data\n",
        "Df = pd.read_csv('/content/project_voting_group11/data/cleaned_VA_voting.csv')\n",
        "Df.head()"
      ],
      "metadata": {
        "colab": {
          "base_uri": "https://localhost:8080/",
          "height": 308
        },
        "id": "SGwQ7cqyL-w-",
        "outputId": "fa536366-c7af-4749-c986-96618d2cc2d8"
      },
      "execution_count": 9,
      "outputs": [
        {
          "output_type": "execute_result",
          "data": {
            "text/plain": [
              "  county_name  candidatevotes  totalvotes   Total  Born in US  \\\n",
              "0    ACCOMACK            5495       16962   32560       29524   \n",
              "1   ALBEMARLE           33416       64657  108819       95653   \n",
              "2   ALLEGHANY            1250        8203   15030       14733   \n",
              "3      AMELIA            1719        7894   12970       12694   \n",
              "4     AMHERST            3871       17005   31782       30977   \n",
              "\n",
              "   Born in US Territory  Born Abroad  Naturalized  Not US Citizen  Total Pop  \\\n",
              "0                   119          192          782            1943      32227   \n",
              "1                   469         1470         5183            6044     101147   \n",
              "2                     0          111           91              95      14744   \n",
              "3                     0           97           73             106      12873   \n",
              "4                    71          151          361             222      31002   \n",
              "\n",
              "   ...  Total Midage Men  Total Female Pop  Total Young-adult Women  \\\n",
              "0  ...              5882             16517                     2858   \n",
              "1  ...             18680             56466                    13740   \n",
              "2  ...              2819              7525                     1266   \n",
              "3  ...              2670              6356                     1165   \n",
              "4  ...              6091             16423                     3106   \n",
              "\n",
              "   Total Midage Women  Total Pop Below Poverty  Total Pop At/Above Poverty  \\\n",
              "0                6474                    19119                       77562   \n",
              "1               20763                    23259                      280182   \n",
              "2                3052                     6945                       37287   \n",
              "3                2667                     4146                       34473   \n",
              "4                6596                    10179                       82827   \n",
              "\n",
              "   Total Disabled Pop  Total Children  Total Seniors   netvotes  \n",
              "0                4253            6764           7527   8.067149  \n",
              "1                9638           21823          19784 -10.676462  \n",
              "2                2829            2837           3439   8.886271  \n",
              "3                1924            2757           2445   8.692490  \n",
              "4                4888            6213           6516   9.281544  \n",
              "\n",
              "[5 rows x 22 columns]"
            ],
            "text/html": [
              "\n",
              "  <div id=\"df-6e714f49-4545-400d-aea1-9f90587b9f04\" class=\"colab-df-container\">\n",
              "    <div>\n",
              "<style scoped>\n",
              "    .dataframe tbody tr th:only-of-type {\n",
              "        vertical-align: middle;\n",
              "    }\n",
              "\n",
              "    .dataframe tbody tr th {\n",
              "        vertical-align: top;\n",
              "    }\n",
              "\n",
              "    .dataframe thead th {\n",
              "        text-align: right;\n",
              "    }\n",
              "</style>\n",
              "<table border=\"1\" class=\"dataframe\">\n",
              "  <thead>\n",
              "    <tr style=\"text-align: right;\">\n",
              "      <th></th>\n",
              "      <th>county_name</th>\n",
              "      <th>candidatevotes</th>\n",
              "      <th>totalvotes</th>\n",
              "      <th>Total</th>\n",
              "      <th>Born in US</th>\n",
              "      <th>Born in US Territory</th>\n",
              "      <th>Born Abroad</th>\n",
              "      <th>Naturalized</th>\n",
              "      <th>Not US Citizen</th>\n",
              "      <th>Total Pop</th>\n",
              "      <th>...</th>\n",
              "      <th>Total Midage Men</th>\n",
              "      <th>Total Female Pop</th>\n",
              "      <th>Total Young-adult Women</th>\n",
              "      <th>Total Midage Women</th>\n",
              "      <th>Total Pop Below Poverty</th>\n",
              "      <th>Total Pop At/Above Poverty</th>\n",
              "      <th>Total Disabled Pop</th>\n",
              "      <th>Total Children</th>\n",
              "      <th>Total Seniors</th>\n",
              "      <th>netvotes</th>\n",
              "    </tr>\n",
              "  </thead>\n",
              "  <tbody>\n",
              "    <tr>\n",
              "      <th>0</th>\n",
              "      <td>ACCOMACK</td>\n",
              "      <td>5495</td>\n",
              "      <td>16962</td>\n",
              "      <td>32560</td>\n",
              "      <td>29524</td>\n",
              "      <td>119</td>\n",
              "      <td>192</td>\n",
              "      <td>782</td>\n",
              "      <td>1943</td>\n",
              "      <td>32227</td>\n",
              "      <td>...</td>\n",
              "      <td>5882</td>\n",
              "      <td>16517</td>\n",
              "      <td>2858</td>\n",
              "      <td>6474</td>\n",
              "      <td>19119</td>\n",
              "      <td>77562</td>\n",
              "      <td>4253</td>\n",
              "      <td>6764</td>\n",
              "      <td>7527</td>\n",
              "      <td>8.067149</td>\n",
              "    </tr>\n",
              "    <tr>\n",
              "      <th>1</th>\n",
              "      <td>ALBEMARLE</td>\n",
              "      <td>33416</td>\n",
              "      <td>64657</td>\n",
              "      <td>108819</td>\n",
              "      <td>95653</td>\n",
              "      <td>469</td>\n",
              "      <td>1470</td>\n",
              "      <td>5183</td>\n",
              "      <td>6044</td>\n",
              "      <td>101147</td>\n",
              "      <td>...</td>\n",
              "      <td>18680</td>\n",
              "      <td>56466</td>\n",
              "      <td>13740</td>\n",
              "      <td>20763</td>\n",
              "      <td>23259</td>\n",
              "      <td>280182</td>\n",
              "      <td>9638</td>\n",
              "      <td>21823</td>\n",
              "      <td>19784</td>\n",
              "      <td>-10.676462</td>\n",
              "    </tr>\n",
              "    <tr>\n",
              "      <th>2</th>\n",
              "      <td>ALLEGHANY</td>\n",
              "      <td>1250</td>\n",
              "      <td>8203</td>\n",
              "      <td>15030</td>\n",
              "      <td>14733</td>\n",
              "      <td>0</td>\n",
              "      <td>111</td>\n",
              "      <td>91</td>\n",
              "      <td>95</td>\n",
              "      <td>14744</td>\n",
              "      <td>...</td>\n",
              "      <td>2819</td>\n",
              "      <td>7525</td>\n",
              "      <td>1266</td>\n",
              "      <td>3052</td>\n",
              "      <td>6945</td>\n",
              "      <td>37287</td>\n",
              "      <td>2829</td>\n",
              "      <td>2837</td>\n",
              "      <td>3439</td>\n",
              "      <td>8.886271</td>\n",
              "    </tr>\n",
              "    <tr>\n",
              "      <th>3</th>\n",
              "      <td>AMELIA</td>\n",
              "      <td>1719</td>\n",
              "      <td>7894</td>\n",
              "      <td>12970</td>\n",
              "      <td>12694</td>\n",
              "      <td>0</td>\n",
              "      <td>97</td>\n",
              "      <td>73</td>\n",
              "      <td>106</td>\n",
              "      <td>12873</td>\n",
              "      <td>...</td>\n",
              "      <td>2670</td>\n",
              "      <td>6356</td>\n",
              "      <td>1165</td>\n",
              "      <td>2667</td>\n",
              "      <td>4146</td>\n",
              "      <td>34473</td>\n",
              "      <td>1924</td>\n",
              "      <td>2757</td>\n",
              "      <td>2445</td>\n",
              "      <td>8.692490</td>\n",
              "    </tr>\n",
              "    <tr>\n",
              "      <th>4</th>\n",
              "      <td>AMHERST</td>\n",
              "      <td>3871</td>\n",
              "      <td>17005</td>\n",
              "      <td>31782</td>\n",
              "      <td>30977</td>\n",
              "      <td>71</td>\n",
              "      <td>151</td>\n",
              "      <td>361</td>\n",
              "      <td>222</td>\n",
              "      <td>31002</td>\n",
              "      <td>...</td>\n",
              "      <td>6091</td>\n",
              "      <td>16423</td>\n",
              "      <td>3106</td>\n",
              "      <td>6596</td>\n",
              "      <td>10179</td>\n",
              "      <td>82827</td>\n",
              "      <td>4888</td>\n",
              "      <td>6213</td>\n",
              "      <td>6516</td>\n",
              "      <td>9.281544</td>\n",
              "    </tr>\n",
              "  </tbody>\n",
              "</table>\n",
              "<p>5 rows × 22 columns</p>\n",
              "</div>\n",
              "    <div class=\"colab-df-buttons\">\n",
              "\n",
              "  <div class=\"colab-df-container\">\n",
              "    <button class=\"colab-df-convert\" onclick=\"convertToInteractive('df-6e714f49-4545-400d-aea1-9f90587b9f04')\"\n",
              "            title=\"Convert this dataframe to an interactive table.\"\n",
              "            style=\"display:none;\">\n",
              "\n",
              "  <svg xmlns=\"http://www.w3.org/2000/svg\" height=\"24px\" viewBox=\"0 -960 960 960\">\n",
              "    <path d=\"M120-120v-720h720v720H120Zm60-500h600v-160H180v160Zm220 220h160v-160H400v160Zm0 220h160v-160H400v160ZM180-400h160v-160H180v160Zm440 0h160v-160H620v160ZM180-180h160v-160H180v160Zm440 0h160v-160H620v160Z\"/>\n",
              "  </svg>\n",
              "    </button>\n",
              "\n",
              "  <style>\n",
              "    .colab-df-container {\n",
              "      display:flex;\n",
              "      gap: 12px;\n",
              "    }\n",
              "\n",
              "    .colab-df-convert {\n",
              "      background-color: #E8F0FE;\n",
              "      border: none;\n",
              "      border-radius: 50%;\n",
              "      cursor: pointer;\n",
              "      display: none;\n",
              "      fill: #1967D2;\n",
              "      height: 32px;\n",
              "      padding: 0 0 0 0;\n",
              "      width: 32px;\n",
              "    }\n",
              "\n",
              "    .colab-df-convert:hover {\n",
              "      background-color: #E2EBFA;\n",
              "      box-shadow: 0px 1px 2px rgba(60, 64, 67, 0.3), 0px 1px 3px 1px rgba(60, 64, 67, 0.15);\n",
              "      fill: #174EA6;\n",
              "    }\n",
              "\n",
              "    .colab-df-buttons div {\n",
              "      margin-bottom: 4px;\n",
              "    }\n",
              "\n",
              "    [theme=dark] .colab-df-convert {\n",
              "      background-color: #3B4455;\n",
              "      fill: #D2E3FC;\n",
              "    }\n",
              "\n",
              "    [theme=dark] .colab-df-convert:hover {\n",
              "      background-color: #434B5C;\n",
              "      box-shadow: 0px 1px 3px 1px rgba(0, 0, 0, 0.15);\n",
              "      filter: drop-shadow(0px 1px 2px rgba(0, 0, 0, 0.3));\n",
              "      fill: #FFFFFF;\n",
              "    }\n",
              "  </style>\n",
              "\n",
              "    <script>\n",
              "      const buttonEl =\n",
              "        document.querySelector('#df-6e714f49-4545-400d-aea1-9f90587b9f04 button.colab-df-convert');\n",
              "      buttonEl.style.display =\n",
              "        google.colab.kernel.accessAllowed ? 'block' : 'none';\n",
              "\n",
              "      async function convertToInteractive(key) {\n",
              "        const element = document.querySelector('#df-6e714f49-4545-400d-aea1-9f90587b9f04');\n",
              "        const dataTable =\n",
              "          await google.colab.kernel.invokeFunction('convertToInteractive',\n",
              "                                                    [key], {});\n",
              "        if (!dataTable) return;\n",
              "\n",
              "        const docLinkHtml = 'Like what you see? Visit the ' +\n",
              "          '<a target=\"_blank\" href=https://colab.research.google.com/notebooks/data_table.ipynb>data table notebook</a>'\n",
              "          + ' to learn more about interactive tables.';\n",
              "        element.innerHTML = '';\n",
              "        dataTable['output_type'] = 'display_data';\n",
              "        await google.colab.output.renderOutput(dataTable, element);\n",
              "        const docLink = document.createElement('div');\n",
              "        docLink.innerHTML = docLinkHtml;\n",
              "        element.appendChild(docLink);\n",
              "      }\n",
              "    </script>\n",
              "  </div>\n",
              "\n",
              "\n",
              "<div id=\"df-2783b1f4-8a79-4309-83b4-b23b87b8c6a6\">\n",
              "  <button class=\"colab-df-quickchart\" onclick=\"quickchart('df-2783b1f4-8a79-4309-83b4-b23b87b8c6a6')\"\n",
              "            title=\"Suggest charts\"\n",
              "            style=\"display:none;\">\n",
              "\n",
              "<svg xmlns=\"http://www.w3.org/2000/svg\" height=\"24px\"viewBox=\"0 0 24 24\"\n",
              "     width=\"24px\">\n",
              "    <g>\n",
              "        <path d=\"M19 3H5c-1.1 0-2 .9-2 2v14c0 1.1.9 2 2 2h14c1.1 0 2-.9 2-2V5c0-1.1-.9-2-2-2zM9 17H7v-7h2v7zm4 0h-2V7h2v10zm4 0h-2v-4h2v4z\"/>\n",
              "    </g>\n",
              "</svg>\n",
              "  </button>\n",
              "\n",
              "<style>\n",
              "  .colab-df-quickchart {\n",
              "      --bg-color: #E8F0FE;\n",
              "      --fill-color: #1967D2;\n",
              "      --hover-bg-color: #E2EBFA;\n",
              "      --hover-fill-color: #174EA6;\n",
              "      --disabled-fill-color: #AAA;\n",
              "      --disabled-bg-color: #DDD;\n",
              "  }\n",
              "\n",
              "  [theme=dark] .colab-df-quickchart {\n",
              "      --bg-color: #3B4455;\n",
              "      --fill-color: #D2E3FC;\n",
              "      --hover-bg-color: #434B5C;\n",
              "      --hover-fill-color: #FFFFFF;\n",
              "      --disabled-bg-color: #3B4455;\n",
              "      --disabled-fill-color: #666;\n",
              "  }\n",
              "\n",
              "  .colab-df-quickchart {\n",
              "    background-color: var(--bg-color);\n",
              "    border: none;\n",
              "    border-radius: 50%;\n",
              "    cursor: pointer;\n",
              "    display: none;\n",
              "    fill: var(--fill-color);\n",
              "    height: 32px;\n",
              "    padding: 0;\n",
              "    width: 32px;\n",
              "  }\n",
              "\n",
              "  .colab-df-quickchart:hover {\n",
              "    background-color: var(--hover-bg-color);\n",
              "    box-shadow: 0 1px 2px rgba(60, 64, 67, 0.3), 0 1px 3px 1px rgba(60, 64, 67, 0.15);\n",
              "    fill: var(--button-hover-fill-color);\n",
              "  }\n",
              "\n",
              "  .colab-df-quickchart-complete:disabled,\n",
              "  .colab-df-quickchart-complete:disabled:hover {\n",
              "    background-color: var(--disabled-bg-color);\n",
              "    fill: var(--disabled-fill-color);\n",
              "    box-shadow: none;\n",
              "  }\n",
              "\n",
              "  .colab-df-spinner {\n",
              "    border: 2px solid var(--fill-color);\n",
              "    border-color: transparent;\n",
              "    border-bottom-color: var(--fill-color);\n",
              "    animation:\n",
              "      spin 1s steps(1) infinite;\n",
              "  }\n",
              "\n",
              "  @keyframes spin {\n",
              "    0% {\n",
              "      border-color: transparent;\n",
              "      border-bottom-color: var(--fill-color);\n",
              "      border-left-color: var(--fill-color);\n",
              "    }\n",
              "    20% {\n",
              "      border-color: transparent;\n",
              "      border-left-color: var(--fill-color);\n",
              "      border-top-color: var(--fill-color);\n",
              "    }\n",
              "    30% {\n",
              "      border-color: transparent;\n",
              "      border-left-color: var(--fill-color);\n",
              "      border-top-color: var(--fill-color);\n",
              "      border-right-color: var(--fill-color);\n",
              "    }\n",
              "    40% {\n",
              "      border-color: transparent;\n",
              "      border-right-color: var(--fill-color);\n",
              "      border-top-color: var(--fill-color);\n",
              "    }\n",
              "    60% {\n",
              "      border-color: transparent;\n",
              "      border-right-color: var(--fill-color);\n",
              "    }\n",
              "    80% {\n",
              "      border-color: transparent;\n",
              "      border-right-color: var(--fill-color);\n",
              "      border-bottom-color: var(--fill-color);\n",
              "    }\n",
              "    90% {\n",
              "      border-color: transparent;\n",
              "      border-bottom-color: var(--fill-color);\n",
              "    }\n",
              "  }\n",
              "</style>\n",
              "\n",
              "  <script>\n",
              "    async function quickchart(key) {\n",
              "      const quickchartButtonEl =\n",
              "        document.querySelector('#' + key + ' button');\n",
              "      quickchartButtonEl.disabled = true;  // To prevent multiple clicks.\n",
              "      quickchartButtonEl.classList.add('colab-df-spinner');\n",
              "      try {\n",
              "        const charts = await google.colab.kernel.invokeFunction(\n",
              "            'suggestCharts', [key], {});\n",
              "      } catch (error) {\n",
              "        console.error('Error during call to suggestCharts:', error);\n",
              "      }\n",
              "      quickchartButtonEl.classList.remove('colab-df-spinner');\n",
              "      quickchartButtonEl.classList.add('colab-df-quickchart-complete');\n",
              "    }\n",
              "    (() => {\n",
              "      let quickchartButtonEl =\n",
              "        document.querySelector('#df-2783b1f4-8a79-4309-83b4-b23b87b8c6a6 button');\n",
              "      quickchartButtonEl.style.display =\n",
              "        google.colab.kernel.accessAllowed ? 'block' : 'none';\n",
              "    })();\n",
              "  </script>\n",
              "</div>\n",
              "\n",
              "    </div>\n",
              "  </div>\n"
            ],
            "application/vnd.google.colaboratory.intrinsic+json": {
              "type": "dataframe",
              "variable_name": "Df"
            }
          },
          "metadata": {},
          "execution_count": 9
        }
      ]
    },
    {
      "cell_type": "code",
      "source": [
        "# predictive model at county level\n",
        "X = Df.drop(columns=['county_name','netvotes'])\n",
        "y = Df['netvotes']\n",
        "\n",
        "# linear regression\n",
        "stock_reg = LinearRegression().fit(X, y)\n",
        "ypred = stock_reg.predict(X)\n",
        "r2 = abs(stock_reg.score(X, y))\n",
        "print(\"R^2 = \", r2)\n",
        "\n",
        "# parity plot shows linear regression is not great\n",
        "fig, ax = plt.subplots()\n",
        "ax.scatter(y, ypred,alpha=0.15)\n",
        "ax.plot(y,y, '-k');\n",
        "ax.set_xlabel('Actual data')\n",
        "ax.set_ylabel('Predicted data')"
      ],
      "metadata": {
        "id": "hDO0uBj_niqc",
        "colab": {
          "base_uri": "https://localhost:8080/",
          "height": 485
        },
        "outputId": "0eb24f93-46ff-462f-9250-1fdd35e3ac6f"
      },
      "execution_count": 5,
      "outputs": [
        {
          "output_type": "stream",
          "name": "stdout",
          "text": [
            "R^2 =  0.6600971316068509\n"
          ]
        },
        {
          "output_type": "execute_result",
          "data": {
            "text/plain": [
              "Text(0, 0.5, 'Predicted data')"
            ]
          },
          "metadata": {},
          "execution_count": 5
        },
        {
          "output_type": "display_data",
          "data": {
            "text/plain": [
              "<Figure size 640x480 with 1 Axes>"
            ],
            "image/png": "[encoded data removed]"
          },
          "metadata": {}
        }
      ]
    },
    {
      "cell_type": "code",
      "source": [
        "# finding state winner\n",
        "win_actual = np.sinh(Df['netvotes']).sum()\n",
        "print(win_actual) # negative value shows democrats won VA by 451138 votes\n",
        "\n",
        "win_pred = np.sinh(ypred).sum()\n",
        "print(win_pred) # predicted correct democrat win but votes are way off - more votes than people living in VA"
      ],
      "metadata": {
        "id": "2HjxpQFx4QPT",
        "colab": {
          "base_uri": "https://localhost:8080/"
        },
        "outputId": "8fbe2a28-8e67-40b8-d126-4c12ca8a5e81"
      },
      "execution_count": 6,
      "outputs": [
        {
          "output_type": "stream",
          "name": "stdout",
          "text": [
            "-451137.9999999999\n",
            "-130201386.3788266\n"
          ]
        }
      ]
    },
    {
      "cell_type": "markdown",
      "source": [
        "###Trying Logistic Regression"
      ],
      "metadata": {
        "id": "dGLIrj3iSSDp"
      }
    },
    {
      "cell_type": "code",
      "source": [
        "# 1 for Republican win, 0 for Democratic win\n",
        "Df['target'] = (Df['netvotes'] > 0).astype(int)\n",
        "\n",
        "#feature scaling\n",
        "features = Df.drop(['county_name', 'totalvotes', 'netvotes', 'target'], axis=1)\n",
        "target = Df['target']\n",
        "\n",
        "# standardizing\n",
        "scaler = StandardScaler()\n",
        "features_scaled = scaler.fit_transform(features)\n",
        "\n",
        "X_train, X_test, y_train, y_test = train_test_split(features_scaled, target, test_size=0.2, random_state=42)\n",
        "X_train.shape, X_test.shape, y_train.shape, y_test.shape"
      ],
      "metadata": {
        "colab": {
          "base_uri": "https://localhost:8080/"
        },
        "id": "ymJSBZNIVo4f",
        "outputId": "9df24e6d-1c22-4491-b367-df8e1ec13a29"
      },
      "execution_count": 10,
      "outputs": [
        {
          "output_type": "execute_result",
          "data": {
            "text/plain": [
              "((106, 19), (27, 19), (106,), (27,))"
            ]
          },
          "metadata": {},
          "execution_count": 10
        }
      ]
    },
    {
      "cell_type": "code",
      "source": [
        "#training logistic regression model\n",
        "model = LogisticRegression(random_state=42)\n",
        "model.fit(X_train, y_train)\n",
        "\n",
        "y_pred = model.predict(X_test)\n",
        "\n",
        "#evaluate\n",
        "accuracy = accuracy_score(y_test, y_pred)\n",
        "conf_matrix = confusion_matrix(y_test, y_pred)\n",
        "report = classification_report(y_test, y_pred)\n",
        "print(accuracy)\n",
        "print(conf_matrix)\n",
        "print(report)"
      ],
      "metadata": {
        "colab": {
          "base_uri": "https://localhost:8080/"
        },
        "id": "B6qf4yOhWLjl",
        "outputId": "16553c0b-ea22-42a5-a87c-8ed05e34beab"
      },
      "execution_count": 12,
      "outputs": [
        {
          "output_type": "stream",
          "name": "stdout",
          "text": [
            "0.8518518518518519\n",
            "[[ 2  4]\n",
            " [ 0 21]]\n",
            "              precision    recall  f1-score   support\n",
            "\n",
            "           0       1.00      0.33      0.50         6\n",
            "           1       0.84      1.00      0.91        21\n",
            "\n",
            "    accuracy                           0.85        27\n",
            "   macro avg       0.92      0.67      0.71        27\n",
            "weighted avg       0.88      0.85      0.82        27\n",
            "\n"
          ]
        }
      ]
    },
    {
      "cell_type": "markdown",
      "source": [
        "85% accuracy, which isn't great, performs well in predicting Republican wins, but so the model is biased toward predicting Republican wins.\n",
        "^might be due to an imbalance in the training data or certain features disproportionately influencing the predictions toward Republican outcomes"
      ],
      "metadata": {
        "id": "2lAuMgaFWtss"
      }
    },
    {
      "cell_type": "code",
      "source": [],
      "metadata": {
        "id": "3v_ggFbPXENH"
      },
      "execution_count": null,
      "outputs": []
    }
  ]
}